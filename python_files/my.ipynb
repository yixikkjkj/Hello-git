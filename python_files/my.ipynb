{
 "metadata": {
  "language_info": {
   "codemirror_mode": {
    "name": "ipython",
    "version": 3
   },
   "file_extension": ".py",
   "mimetype": "text/x-python",
   "name": "python",
   "nbconvert_exporter": "python",
   "pygments_lexer": "ipython3",
   "version": "3.7.4-final"
  },
  "orig_nbformat": 2,
  "kernelspec": {
   "name": "python3",
   "display_name": "Python 3.7.4 64-bit ('hello')",
   "metadata": {
    "interpreter": {
     "hash": "345701912df577346d86407313ab1479b957758cca6b5f3a24e199c42ba3c638"
    }
   }
  }
 },
 "nbformat": 4,
 "nbformat_minor": 2,
 "cells": [
  {
   "cell_type": "code",
   "execution_count": 14,
   "metadata": {},
   "outputs": [],
   "source": [
    "import pandas\n",
    "import numpy\n",
    "import matplotlib\n",
    "df = pandas.DataFrame(columns=list('ABCD'), data=numpy.random.randn(1000, 4))"
   ]
  },
  {
   "cell_type": "code",
   "execution_count": 8,
   "metadata": {},
   "outputs": [
    {
     "output_type": "execute_result",
     "data": {
      "text/plain": "            A         B         C         D\n658 -3.064253  0.580486 -0.309986 -1.148934\n497 -2.770744 -1.149671 -0.181266  0.071232\n991 -2.714222  0.387345  0.114868  2.040717\n783 -2.628548 -1.684594 -0.150151 -0.445682\n979 -2.555410  0.944292 -2.382945 -0.702950",
      "text/html": "<div>\n<style scoped>\n    .dataframe tbody tr th:only-of-type {\n        vertical-align: middle;\n    }\n\n    .dataframe tbody tr th {\n        vertical-align: top;\n    }\n\n    .dataframe thead th {\n        text-align: right;\n    }\n</style>\n<table border=\"1\" class=\"dataframe\">\n  <thead>\n    <tr style=\"text-align: right;\">\n      <th></th>\n      <th>A</th>\n      <th>B</th>\n      <th>C</th>\n      <th>D</th>\n    </tr>\n  </thead>\n  <tbody>\n    <tr>\n      <th>658</th>\n      <td>-3.064253</td>\n      <td>0.580486</td>\n      <td>-0.309986</td>\n      <td>-1.148934</td>\n    </tr>\n    <tr>\n      <th>497</th>\n      <td>-2.770744</td>\n      <td>-1.149671</td>\n      <td>-0.181266</td>\n      <td>0.071232</td>\n    </tr>\n    <tr>\n      <th>991</th>\n      <td>-2.714222</td>\n      <td>0.387345</td>\n      <td>0.114868</td>\n      <td>2.040717</td>\n    </tr>\n    <tr>\n      <th>783</th>\n      <td>-2.628548</td>\n      <td>-1.684594</td>\n      <td>-0.150151</td>\n      <td>-0.445682</td>\n    </tr>\n    <tr>\n      <th>979</th>\n      <td>-2.555410</td>\n      <td>0.944292</td>\n      <td>-2.382945</td>\n      <td>-0.702950</td>\n    </tr>\n  </tbody>\n</table>\n</div>"
     },
     "metadata": {},
     "execution_count": 8
    }
   ],
   "source": [
    "df.sort_values('A').head()"
   ]
  },
  {
   "cell_type": "code",
   "execution_count": 4,
   "metadata": {},
   "outputs": [
    {
     "output_type": "stream",
     "name": "stdout",
     "text": [
      "[<selenium.webdriver.remote.webelement.WebElement (session=\"c6e228bc88076be00d2845f2effc4501\", element=\"c9526c04-dc0c-43b3-90b3-7aa04b3d28c0\")>, <selenium.webdriver.remote.webelement.WebElement (session=\"c6e228bc88076be00d2845f2effc4501\", element=\"4e566086-f023-4a53-8bec-ecbe32335d03\")>, <selenium.webdriver.remote.webelement.WebElement (session=\"c6e228bc88076be00d2845f2effc4501\", element=\"2b824809-7615-4c20-8f42-70ec4303fdd5\")>]\n"
     ]
    }
   ],
   "source": [
    "from selenium import webdriver\n",
    "\n",
    "options = webdriver.ChromeOptions()\n",
    "options.add_argument('--headless')\n",
    "options.add_argument('--window-size=1920,1080')\n",
    "\n",
    "with webdriver.Chrome(chrome_options=options) as driver:\n",
    "    driver.get('https://ads.huhuguanjia.com')\n",
    "    eles = driver.find_elements_by_tag_name('a')\n",
    "    print(eles)\n",
    "    "
   ]
  },
  {
   "cell_type": "code",
   "execution_count": null,
   "metadata": {},
   "outputs": [],
   "source": []
  }
 ]
}